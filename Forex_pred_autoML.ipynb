{
  "nbformat": 4,
  "nbformat_minor": 0,
  "metadata": {
    "kernelspec": {
      "display_name": "Python 3",
      "language": "python",
      "name": "python3"
    },
    "language_info": {
      "codemirror_mode": {
        "name": "ipython",
        "version": 3
      },
      "file_extension": ".py",
      "mimetype": "text/x-python",
      "name": "python",
      "nbconvert_exporter": "python",
      "pygments_lexer": "ipython3",
      "version": "3.8.3"
    },
    "colab": {
      "name": "Forex_pred_autoML.ipynb",
      "provenance": [],
      "include_colab_link": true
    }
  },
  "cells": [
    {
      "cell_type": "markdown",
      "metadata": {
        "id": "view-in-github",
        "colab_type": "text"
      },
      "source": [
        "<a href=\"https://colab.research.google.com/github/sucharitaatha/DataScience/blob/master/Forex_pred_autoML.ipynb\" target=\"_parent\"><img src=\"https://colab.research.google.com/assets/colab-badge.svg\" alt=\"Open In Colab\"/></a>"
      ]
    },
    {
      "cell_type": "code",
      "metadata": {
        "id": "sZJrCqkjZyJ0"
      },
      "source": [
        "import numpy as np # linear algebra\n",
        "import pandas as pd # data processing, CSV file I/O (e.g. pd.read_csv)\n",
        "from datetime import datetime\n",
        "\n",
        "import matplotlib.pyplot as plt\n",
        "plt.style.use('seaborn-darkgrid')"
      ],
      "execution_count": 1,
      "outputs": []
    },
    {
      "cell_type": "code",
      "metadata": {
        "colab": {
          "base_uri": "https://localhost:8080/"
        },
        "id": "7E3SHHJIZ0qQ",
        "outputId": "750b9ebd-159d-447b-b833-27bda49a072e"
      },
      "source": [
        "from google.colab import drive\n",
        "drive.mount(\"/content/gdrive\")"
      ],
      "execution_count": 2,
      "outputs": [
        {
          "output_type": "stream",
          "text": [
            "Mounted at /content/gdrive\n"
          ],
          "name": "stdout"
        }
      ]
    },
    {
      "cell_type": "code",
      "metadata": {
        "id": "8ojQAearZyJ6"
      },
      "source": [
        "data = pd.read_excel('/content/gdrive/My Drive/Forex_with_News_data.xlsx', sheet_name=\"MarketData\")"
      ],
      "execution_count": 3,
      "outputs": []
    },
    {
      "cell_type": "code",
      "metadata": {
        "colab": {
          "base_uri": "https://localhost:8080/",
          "height": 468
        },
        "id": "hofQMPesZyJ6",
        "outputId": "b2397dd6-e571-4d68-84aa-14e909d78655"
      },
      "source": [
        "data.head()"
      ],
      "execution_count": 4,
      "outputs": [
        {
          "output_type": "execute_result",
          "data": {
            "text/html": [
              "<div>\n",
              "<style scoped>\n",
              "    .dataframe tbody tr th:only-of-type {\n",
              "        vertical-align: middle;\n",
              "    }\n",
              "\n",
              "    .dataframe tbody tr th {\n",
              "        vertical-align: top;\n",
              "    }\n",
              "\n",
              "    .dataframe thead th {\n",
              "        text-align: right;\n",
              "    }\n",
              "</style>\n",
              "<table border=\"1\" class=\"dataframe\">\n",
              "  <thead>\n",
              "    <tr style=\"text-align: right;\">\n",
              "      <th></th>\n",
              "      <th>Date</th>\n",
              "      <th>EUR/USD(Open, Ask)</th>\n",
              "      <th>EUR/USD(High, Ask)</th>\n",
              "      <th>EUR/USD(Low, Ask)</th>\n",
              "      <th>EUR/USD(Close, Ask)</th>\n",
              "      <th>EUR/USD(Open, Bid)</th>\n",
              "      <th>EUR/USD(High, Bid)</th>\n",
              "      <th>EUR/USD(Low, Bid)</th>\n",
              "      <th>EUR/USD(Close, Bid)</th>\n",
              "      <th>Difference in Close Bid in 4 hours</th>\n",
              "      <th>Class A</th>\n",
              "      <th>Class B</th>\n",
              "      <th>Class C</th>\n",
              "      <th>Class D</th>\n",
              "      <th>Group name based on Class</th>\n",
              "      <th>MAX of difference(i.e. J)</th>\n",
              "      <th>MIN of difference(i.e. J)</th>\n",
              "      <th>Class</th>\n",
              "      <th>Bottom Value</th>\n",
              "      <th>Top Value</th>\n",
              "    </tr>\n",
              "  </thead>\n",
              "  <tbody>\n",
              "    <tr>\n",
              "      <th>0</th>\n",
              "      <td>2012-09-28 05:00:00</td>\n",
              "      <td>1.29472</td>\n",
              "      <td>1.29608</td>\n",
              "      <td>1.29356</td>\n",
              "      <td>1.29399</td>\n",
              "      <td>1.29447</td>\n",
              "      <td>1.29587</td>\n",
              "      <td>1.29332</td>\n",
              "      <td>1.29374</td>\n",
              "      <td>0.00132</td>\n",
              "      <td>NaN</td>\n",
              "      <td>NaN</td>\n",
              "      <td>C</td>\n",
              "      <td>NaN</td>\n",
              "      <td>C</td>\n",
              "      <td>1.4857</td>\n",
              "      <td>-0.03139</td>\n",
              "      <td>A</td>\n",
              "      <td>1</td>\n",
              "      <td>upwards</td>\n",
              "    </tr>\n",
              "    <tr>\n",
              "      <th>1</th>\n",
              "      <td>2012-09-28 03:00:00</td>\n",
              "      <td>1.29262</td>\n",
              "      <td>1.29486</td>\n",
              "      <td>1.29230</td>\n",
              "      <td>1.29472</td>\n",
              "      <td>1.29242</td>\n",
              "      <td>1.29463</td>\n",
              "      <td>1.29205</td>\n",
              "      <td>1.29447</td>\n",
              "      <td>0.00124</td>\n",
              "      <td>NaN</td>\n",
              "      <td>NaN</td>\n",
              "      <td>C</td>\n",
              "      <td>NaN</td>\n",
              "      <td>C</td>\n",
              "      <td>NaN</td>\n",
              "      <td>NaN</td>\n",
              "      <td>B</td>\n",
              "      <td>0.5</td>\n",
              "      <td>1</td>\n",
              "    </tr>\n",
              "    <tr>\n",
              "      <th>2</th>\n",
              "      <td>2012-09-28 01:00:00</td>\n",
              "      <td>1.29350</td>\n",
              "      <td>1.29425</td>\n",
              "      <td>1.29255</td>\n",
              "      <td>1.29262</td>\n",
              "      <td>1.29323</td>\n",
              "      <td>1.29401</td>\n",
              "      <td>1.29232</td>\n",
              "      <td>1.29242</td>\n",
              "      <td>-0.00113</td>\n",
              "      <td>NaN</td>\n",
              "      <td>NaN</td>\n",
              "      <td>NaN</td>\n",
              "      <td>D</td>\n",
              "      <td>D</td>\n",
              "      <td>NaN</td>\n",
              "      <td>NaN</td>\n",
              "      <td>C</td>\n",
              "      <td>0</td>\n",
              "      <td>0.5</td>\n",
              "    </tr>\n",
              "    <tr>\n",
              "      <th>3</th>\n",
              "      <td>2012-09-27 23:00:00</td>\n",
              "      <td>1.29381</td>\n",
              "      <td>1.29429</td>\n",
              "      <td>1.29303</td>\n",
              "      <td>1.29350</td>\n",
              "      <td>1.29355</td>\n",
              "      <td>1.29402</td>\n",
              "      <td>1.29278</td>\n",
              "      <td>1.29323</td>\n",
              "      <td>0.00144</td>\n",
              "      <td>NaN</td>\n",
              "      <td>NaN</td>\n",
              "      <td>C</td>\n",
              "      <td>NaN</td>\n",
              "      <td>C</td>\n",
              "      <td>NaN</td>\n",
              "      <td>NaN</td>\n",
              "      <td>D</td>\n",
              "      <td>downwards</td>\n",
              "      <td>0</td>\n",
              "    </tr>\n",
              "    <tr>\n",
              "      <th>4</th>\n",
              "      <td>2012-09-27 21:00:00</td>\n",
              "      <td>1.29207</td>\n",
              "      <td>1.29441</td>\n",
              "      <td>1.29099</td>\n",
              "      <td>1.29381</td>\n",
              "      <td>1.29179</td>\n",
              "      <td>1.29414</td>\n",
              "      <td>1.29071</td>\n",
              "      <td>1.29355</td>\n",
              "      <td>0.00262</td>\n",
              "      <td>NaN</td>\n",
              "      <td>NaN</td>\n",
              "      <td>C</td>\n",
              "      <td>NaN</td>\n",
              "      <td>C</td>\n",
              "      <td>NaN</td>\n",
              "      <td>NaN</td>\n",
              "      <td>NaN</td>\n",
              "      <td>NaN</td>\n",
              "      <td>NaN</td>\n",
              "    </tr>\n",
              "  </tbody>\n",
              "</table>\n",
              "</div>"
            ],
            "text/plain": [
              "                 Date  EUR/USD(Open, Ask)  ...  Bottom Value  Top Value\n",
              "0 2012-09-28 05:00:00             1.29472  ...             1    upwards\n",
              "1 2012-09-28 03:00:00             1.29262  ...           0.5          1\n",
              "2 2012-09-28 01:00:00             1.29350  ...             0        0.5\n",
              "3 2012-09-27 23:00:00             1.29381  ...     downwards          0\n",
              "4 2012-09-27 21:00:00             1.29207  ...           NaN        NaN\n",
              "\n",
              "[5 rows x 20 columns]"
            ]
          },
          "metadata": {
            "tags": []
          },
          "execution_count": 4
        }
      ]
    },
    {
      "cell_type": "code",
      "metadata": {
        "colab": {
          "base_uri": "https://localhost:8080/"
        },
        "id": "VpoztYseZyJ7",
        "outputId": "965b3332-551a-4cae-8efc-476701725029"
      },
      "source": [
        "data.info()"
      ],
      "execution_count": 5,
      "outputs": [
        {
          "output_type": "stream",
          "text": [
            "<class 'pandas.core.frame.DataFrame'>\n",
            "RangeIndex: 15093 entries, 0 to 15092\n",
            "Data columns (total 20 columns):\n",
            " #   Column                              Non-Null Count  Dtype         \n",
            "---  ------                              --------------  -----         \n",
            " 0   Date                                15093 non-null  datetime64[ns]\n",
            " 1   EUR/USD(Open, Ask)                  15093 non-null  float64       \n",
            " 2   EUR/USD(High, Ask)                  15093 non-null  float64       \n",
            " 3   EUR/USD(Low, Ask)                   15093 non-null  float64       \n",
            " 4   EUR/USD(Close, Ask)                 15093 non-null  float64       \n",
            " 5   EUR/USD(Open, Bid)                  15093 non-null  float64       \n",
            " 6   EUR/USD(High, Bid)                  15093 non-null  float64       \n",
            " 7   EUR/USD(Low, Bid)                   15093 non-null  float64       \n",
            " 8   EUR/USD(Close, Bid)                 15093 non-null  float64       \n",
            " 9   Difference in Close Bid in 4 hours  15093 non-null  float64       \n",
            " 10  Class A                             2 non-null      object        \n",
            " 11  Class B                             0 non-null      float64       \n",
            " 12  Class C                             7579 non-null   object        \n",
            " 13  Class D                             7512 non-null   object        \n",
            " 14  Group name based on Class           15093 non-null  object        \n",
            " 15  MAX of difference(i.e. J)           1 non-null      float64       \n",
            " 16  MIN of difference(i.e. J)           1 non-null      float64       \n",
            " 17  Class                               4 non-null      object        \n",
            " 18  Bottom Value                        4 non-null      object        \n",
            " 19  Top Value                           4 non-null      object        \n",
            "dtypes: datetime64[ns](1), float64(12), object(7)\n",
            "memory usage: 2.3+ MB\n"
          ],
          "name": "stdout"
        }
      ]
    },
    {
      "cell_type": "code",
      "metadata": {
        "id": "9F16YfVvZyJ8"
      },
      "source": [
        "data = data.set_index('Date')"
      ],
      "execution_count": 6,
      "outputs": []
    },
    {
      "cell_type": "code",
      "metadata": {
        "colab": {
          "base_uri": "https://localhost:8080/"
        },
        "id": "6-TM8bYnZyJ8",
        "outputId": "8c1a93f9-c2df-4c2b-cfd2-831a6d1805a7"
      },
      "source": [
        "data.info()"
      ],
      "execution_count": 7,
      "outputs": [
        {
          "output_type": "stream",
          "text": [
            "<class 'pandas.core.frame.DataFrame'>\n",
            "DatetimeIndex: 15093 entries, 2012-09-28 05:00:00 to 2007-11-22 17:00:00\n",
            "Data columns (total 19 columns):\n",
            " #   Column                              Non-Null Count  Dtype  \n",
            "---  ------                              --------------  -----  \n",
            " 0   EUR/USD(Open, Ask)                  15093 non-null  float64\n",
            " 1   EUR/USD(High, Ask)                  15093 non-null  float64\n",
            " 2   EUR/USD(Low, Ask)                   15093 non-null  float64\n",
            " 3   EUR/USD(Close, Ask)                 15093 non-null  float64\n",
            " 4   EUR/USD(Open, Bid)                  15093 non-null  float64\n",
            " 5   EUR/USD(High, Bid)                  15093 non-null  float64\n",
            " 6   EUR/USD(Low, Bid)                   15093 non-null  float64\n",
            " 7   EUR/USD(Close, Bid)                 15093 non-null  float64\n",
            " 8   Difference in Close Bid in 4 hours  15093 non-null  float64\n",
            " 9   Class A                             2 non-null      object \n",
            " 10  Class B                             0 non-null      float64\n",
            " 11  Class C                             7579 non-null   object \n",
            " 12  Class D                             7512 non-null   object \n",
            " 13  Group name based on Class           15093 non-null  object \n",
            " 14  MAX of difference(i.e. J)           1 non-null      float64\n",
            " 15  MIN of difference(i.e. J)           1 non-null      float64\n",
            " 16  Class                               4 non-null      object \n",
            " 17  Bottom Value                        4 non-null      object \n",
            " 18  Top Value                           4 non-null      object \n",
            "dtypes: float64(12), object(7)\n",
            "memory usage: 2.3+ MB\n"
          ],
          "name": "stdout"
        }
      ]
    },
    {
      "cell_type": "code",
      "metadata": {
        "id": "AqDRM3MPZyJ8"
      },
      "source": [
        "# Reverse the order \n",
        "data = pd.DataFrame(data = data.iloc[::-1])"
      ],
      "execution_count": 8,
      "outputs": []
    },
    {
      "cell_type": "code",
      "metadata": {
        "id": "q2CyhWsrZyJ8"
      },
      "source": [
        "data = pd.DataFrame(data = data[\"EUR/USD(Close, Bid)\"])"
      ],
      "execution_count": 9,
      "outputs": []
    },
    {
      "cell_type": "code",
      "metadata": {
        "id": "3PykmhnQZyJ9"
      },
      "source": [
        "data.rename(columns = {'EUR/USD(Close, Bid)':'Close_Bid'}, inplace = True) "
      ],
      "execution_count": 10,
      "outputs": []
    },
    {
      "cell_type": "code",
      "metadata": {
        "colab": {
          "base_uri": "https://localhost:8080/",
          "height": 237
        },
        "id": "wGQl2IgiZyJ9",
        "outputId": "cbeaa315-2c86-4015-ac23-1e0df3a25187"
      },
      "source": [
        "data.head()"
      ],
      "execution_count": 11,
      "outputs": [
        {
          "output_type": "execute_result",
          "data": {
            "text/html": [
              "<div>\n",
              "<style scoped>\n",
              "    .dataframe tbody tr th:only-of-type {\n",
              "        vertical-align: middle;\n",
              "    }\n",
              "\n",
              "    .dataframe tbody tr th {\n",
              "        vertical-align: top;\n",
              "    }\n",
              "\n",
              "    .dataframe thead th {\n",
              "        text-align: right;\n",
              "    }\n",
              "</style>\n",
              "<table border=\"1\" class=\"dataframe\">\n",
              "  <thead>\n",
              "    <tr style=\"text-align: right;\">\n",
              "      <th></th>\n",
              "      <th>Close_Bid</th>\n",
              "    </tr>\n",
              "    <tr>\n",
              "      <th>Date</th>\n",
              "      <th></th>\n",
              "    </tr>\n",
              "  </thead>\n",
              "  <tbody>\n",
              "    <tr>\n",
              "      <th>2007-11-22 17:00:00</th>\n",
              "      <td>1.4845</td>\n",
              "    </tr>\n",
              "    <tr>\n",
              "      <th>2007-11-22 19:00:00</th>\n",
              "      <td>1.4857</td>\n",
              "    </tr>\n",
              "    <tr>\n",
              "      <th>2007-11-22 21:00:00</th>\n",
              "      <td>1.4942</td>\n",
              "    </tr>\n",
              "    <tr>\n",
              "      <th>2007-11-22 23:00:00</th>\n",
              "      <td>1.4921</td>\n",
              "    </tr>\n",
              "    <tr>\n",
              "      <th>2007-11-23 01:00:00</th>\n",
              "      <td>1.4906</td>\n",
              "    </tr>\n",
              "  </tbody>\n",
              "</table>\n",
              "</div>"
            ],
            "text/plain": [
              "                     Close_Bid\n",
              "Date                          \n",
              "2007-11-22 17:00:00     1.4845\n",
              "2007-11-22 19:00:00     1.4857\n",
              "2007-11-22 21:00:00     1.4942\n",
              "2007-11-22 23:00:00     1.4921\n",
              "2007-11-23 01:00:00     1.4906"
            ]
          },
          "metadata": {
            "tags": []
          },
          "execution_count": 11
        }
      ]
    },
    {
      "cell_type": "code",
      "metadata": {
        "id": "xAI0-LleZyJ9"
      },
      "source": [
        "data_hrly = data.resample(\"2H\").mean() #hourly resampling"
      ],
      "execution_count": 12,
      "outputs": []
    },
    {
      "cell_type": "code",
      "metadata": {
        "colab": {
          "base_uri": "https://localhost:8080/",
          "height": 237
        },
        "id": "a1PwShBCZyJ9",
        "outputId": "146dba8b-01fa-42b6-ac40-137cba783edf"
      },
      "source": [
        "data_hrly.head()"
      ],
      "execution_count": 13,
      "outputs": [
        {
          "output_type": "execute_result",
          "data": {
            "text/html": [
              "<div>\n",
              "<style scoped>\n",
              "    .dataframe tbody tr th:only-of-type {\n",
              "        vertical-align: middle;\n",
              "    }\n",
              "\n",
              "    .dataframe tbody tr th {\n",
              "        vertical-align: top;\n",
              "    }\n",
              "\n",
              "    .dataframe thead th {\n",
              "        text-align: right;\n",
              "    }\n",
              "</style>\n",
              "<table border=\"1\" class=\"dataframe\">\n",
              "  <thead>\n",
              "    <tr style=\"text-align: right;\">\n",
              "      <th></th>\n",
              "      <th>Close_Bid</th>\n",
              "    </tr>\n",
              "    <tr>\n",
              "      <th>Date</th>\n",
              "      <th></th>\n",
              "    </tr>\n",
              "  </thead>\n",
              "  <tbody>\n",
              "    <tr>\n",
              "      <th>2007-11-22 16:00:00</th>\n",
              "      <td>1.4845</td>\n",
              "    </tr>\n",
              "    <tr>\n",
              "      <th>2007-11-22 18:00:00</th>\n",
              "      <td>1.4857</td>\n",
              "    </tr>\n",
              "    <tr>\n",
              "      <th>2007-11-22 20:00:00</th>\n",
              "      <td>1.4942</td>\n",
              "    </tr>\n",
              "    <tr>\n",
              "      <th>2007-11-22 22:00:00</th>\n",
              "      <td>1.4921</td>\n",
              "    </tr>\n",
              "    <tr>\n",
              "      <th>2007-11-23 00:00:00</th>\n",
              "      <td>1.4906</td>\n",
              "    </tr>\n",
              "  </tbody>\n",
              "</table>\n",
              "</div>"
            ],
            "text/plain": [
              "                     Close_Bid\n",
              "Date                          \n",
              "2007-11-22 16:00:00     1.4845\n",
              "2007-11-22 18:00:00     1.4857\n",
              "2007-11-22 20:00:00     1.4942\n",
              "2007-11-22 22:00:00     1.4921\n",
              "2007-11-23 00:00:00     1.4906"
            ]
          },
          "metadata": {
            "tags": []
          },
          "execution_count": 13
        }
      ]
    },
    {
      "cell_type": "markdown",
      "metadata": {
        "id": "d2uk9gBMZyJ9"
      },
      "source": [
        "#### Time Series Decomposition & Statistical Tests"
      ]
    },
    {
      "cell_type": "code",
      "metadata": {
        "colab": {
          "base_uri": "https://localhost:8080/"
        },
        "id": "gXSTru7-ZyJ-",
        "outputId": "f81b2fd3-b6a4-4a1e-dda4-bce04ac10db6"
      },
      "source": [
        "from statsmodels.tsa.seasonal import seasonal_decompose\n",
        "from statsmodels.tsa.stattools import kpss\n",
        "from statsmodels.tsa.stattools import adfuller\n",
        "from statsmodels.graphics.tsaplots import plot_acf, plot_pacf"
      ],
      "execution_count": 14,
      "outputs": [
        {
          "output_type": "stream",
          "text": [
            "/usr/local/lib/python3.7/dist-packages/statsmodels/tools/_testing.py:19: FutureWarning: pandas.util.testing is deprecated. Use the functions in the public API at pandas.testing instead.\n",
            "  import pandas.util.testing as tm\n"
          ],
          "name": "stderr"
        }
      ]
    },
    {
      "cell_type": "code",
      "metadata": {
        "colab": {
          "base_uri": "https://localhost:8080/"
        },
        "id": "xODs0JKwZyJ-",
        "outputId": "78c96e51-d456-459e-fb76-bd64157de443"
      },
      "source": [
        "def fill_missing(df):\n",
        "    ### function to impute missing values using interpolation ###\n",
        "    df['Close_Bid'] = df['Close_Bid'].interpolate()\n",
        "    print(df.head())\n",
        "    print(df.isnull().sum())\n",
        "    \n",
        "fill_missing(data_hrly)"
      ],
      "execution_count": 15,
      "outputs": [
        {
          "output_type": "stream",
          "text": [
            "                     Close_Bid\n",
            "Date                          \n",
            "2007-11-22 16:00:00     1.4845\n",
            "2007-11-22 18:00:00     1.4857\n",
            "2007-11-22 20:00:00     1.4942\n",
            "2007-11-22 22:00:00     1.4921\n",
            "2007-11-23 00:00:00     1.4906\n",
            "Close_Bid    0\n",
            "dtype: int64\n"
          ],
          "name": "stdout"
        }
      ]
    },
    {
      "cell_type": "code",
      "metadata": {
        "colab": {
          "base_uri": "https://localhost:8080/",
          "height": 235
        },
        "id": "sO_lAvPzZyJ-",
        "outputId": "873dea16-a2dc-4215-bb50-4040a54d6978"
      },
      "source": [
        "plt.figure(figsize=(15,12))\n",
        "series = data_hrly.Close_Bid\n",
        "result = seasonal_decompose(series, model='additive',period=1)\n",
        "result.plot()"
      ],
      "execution_count": 16,
      "outputs": [
        {
          "output_type": "error",
          "ename": "TypeError",
          "evalue": "ignored",
          "traceback": [
            "\u001b[0;31m---------------------------------------------------------------------------\u001b[0m",
            "\u001b[0;31mTypeError\u001b[0m                                 Traceback (most recent call last)",
            "\u001b[0;32m<ipython-input-16-beee6dc5c7ea>\u001b[0m in \u001b[0;36m<module>\u001b[0;34m()\u001b[0m\n\u001b[1;32m      1\u001b[0m \u001b[0mplt\u001b[0m\u001b[0;34m.\u001b[0m\u001b[0mfigure\u001b[0m\u001b[0;34m(\u001b[0m\u001b[0mfigsize\u001b[0m\u001b[0;34m=\u001b[0m\u001b[0;34m(\u001b[0m\u001b[0;36m15\u001b[0m\u001b[0;34m,\u001b[0m\u001b[0;36m12\u001b[0m\u001b[0;34m)\u001b[0m\u001b[0;34m)\u001b[0m\u001b[0;34m\u001b[0m\u001b[0;34m\u001b[0m\u001b[0m\n\u001b[1;32m      2\u001b[0m \u001b[0mseries\u001b[0m \u001b[0;34m=\u001b[0m \u001b[0mdata_hrly\u001b[0m\u001b[0;34m.\u001b[0m\u001b[0mClose_Bid\u001b[0m\u001b[0;34m\u001b[0m\u001b[0;34m\u001b[0m\u001b[0m\n\u001b[0;32m----> 3\u001b[0;31m \u001b[0mresult\u001b[0m \u001b[0;34m=\u001b[0m \u001b[0mseasonal_decompose\u001b[0m\u001b[0;34m(\u001b[0m\u001b[0mseries\u001b[0m\u001b[0;34m,\u001b[0m \u001b[0mmodel\u001b[0m\u001b[0;34m=\u001b[0m\u001b[0;34m'additive'\u001b[0m\u001b[0;34m,\u001b[0m\u001b[0mperiod\u001b[0m\u001b[0;34m=\u001b[0m\u001b[0;36m1\u001b[0m\u001b[0;34m)\u001b[0m\u001b[0;34m\u001b[0m\u001b[0;34m\u001b[0m\u001b[0m\n\u001b[0m\u001b[1;32m      4\u001b[0m \u001b[0mresult\u001b[0m\u001b[0;34m.\u001b[0m\u001b[0mplot\u001b[0m\u001b[0;34m(\u001b[0m\u001b[0;34m)\u001b[0m\u001b[0;34m\u001b[0m\u001b[0;34m\u001b[0m\u001b[0m\n",
            "\u001b[0;31mTypeError\u001b[0m: seasonal_decompose() got an unexpected keyword argument 'period'"
          ]
        },
        {
          "output_type": "display_data",
          "data": {
            "text/plain": [
              "<Figure size 1080x864 with 0 Axes>"
            ]
          },
          "metadata": {
            "tags": []
          }
        }
      ]
    },
    {
      "cell_type": "code",
      "metadata": {
        "colab": {
          "base_uri": "https://localhost:8080/",
          "height": 206
        },
        "id": "wQI3XUubZyJ-",
        "outputId": "aab67ae8-7de9-42ea-947e-b3f208cdb51e"
      },
      "source": [
        "# Renaming the column names accroding to Prophet's requirements\n",
        "\n",
        "data_hrly_fb = data_hrly.reset_index()[['Date','Close_Bid']].rename({'Date':'ds','Close_Bid':'y'}, axis=1)\n",
        "data_hrly_fb.head()"
      ],
      "execution_count": 17,
      "outputs": [
        {
          "output_type": "execute_result",
          "data": {
            "text/html": [
              "<div>\n",
              "<style scoped>\n",
              "    .dataframe tbody tr th:only-of-type {\n",
              "        vertical-align: middle;\n",
              "    }\n",
              "\n",
              "    .dataframe tbody tr th {\n",
              "        vertical-align: top;\n",
              "    }\n",
              "\n",
              "    .dataframe thead th {\n",
              "        text-align: right;\n",
              "    }\n",
              "</style>\n",
              "<table border=\"1\" class=\"dataframe\">\n",
              "  <thead>\n",
              "    <tr style=\"text-align: right;\">\n",
              "      <th></th>\n",
              "      <th>ds</th>\n",
              "      <th>y</th>\n",
              "    </tr>\n",
              "  </thead>\n",
              "  <tbody>\n",
              "    <tr>\n",
              "      <th>0</th>\n",
              "      <td>2007-11-22 16:00:00</td>\n",
              "      <td>1.4845</td>\n",
              "    </tr>\n",
              "    <tr>\n",
              "      <th>1</th>\n",
              "      <td>2007-11-22 18:00:00</td>\n",
              "      <td>1.4857</td>\n",
              "    </tr>\n",
              "    <tr>\n",
              "      <th>2</th>\n",
              "      <td>2007-11-22 20:00:00</td>\n",
              "      <td>1.4942</td>\n",
              "    </tr>\n",
              "    <tr>\n",
              "      <th>3</th>\n",
              "      <td>2007-11-22 22:00:00</td>\n",
              "      <td>1.4921</td>\n",
              "    </tr>\n",
              "    <tr>\n",
              "      <th>4</th>\n",
              "      <td>2007-11-23 00:00:00</td>\n",
              "      <td>1.4906</td>\n",
              "    </tr>\n",
              "  </tbody>\n",
              "</table>\n",
              "</div>"
            ],
            "text/plain": [
              "                   ds       y\n",
              "0 2007-11-22 16:00:00  1.4845\n",
              "1 2007-11-22 18:00:00  1.4857\n",
              "2 2007-11-22 20:00:00  1.4942\n",
              "3 2007-11-22 22:00:00  1.4921\n",
              "4 2007-11-23 00:00:00  1.4906"
            ]
          },
          "metadata": {
            "tags": []
          },
          "execution_count": 17
        }
      ]
    },
    {
      "cell_type": "code",
      "metadata": {
        "colab": {
          "base_uri": "https://localhost:8080/"
        },
        "id": "bqf5iyRkZyJ-",
        "outputId": "13460d94-7f6f-43d1-bb88-d3bf1a30f9e3"
      },
      "source": [
        "\n",
        "split_date = \"2012-01-01 21:00:00\"\n",
        "train_filt = data_hrly_fb['ds'] <= split_date\n",
        "test_filt = data_hrly_fb['ds'] > split_date\n",
        "\n",
        "train_fb = data_hrly_fb[train_filt]\n",
        "test_fb = data_hrly_fb[test_filt]\n",
        "\n",
        "print(\"train data shape :\", train_fb.shape[0] / data_hrly_fb.shape[0] * 100)\n",
        "print(\"test data shape :\", test_fb.shape[0] / data_hrly_fb.shape[0] * 100)"
      ],
      "execution_count": 18,
      "outputs": [
        {
          "output_type": "stream",
          "text": [
            "train data shape : 84.74058046004045\n",
            "test data shape : 15.259419539959545\n"
          ],
          "name": "stdout"
        }
      ]
    },
    {
      "cell_type": "code",
      "metadata": {
        "colab": {
          "base_uri": "https://localhost:8080/"
        },
        "id": "WW62tzirZyJ_",
        "outputId": "9f93b3c5-359f-4ea3-a305-ec09218873b6"
      },
      "source": [
        "pip install auto_ts"
      ],
      "execution_count": 19,
      "outputs": [
        {
          "output_type": "stream",
          "text": [
            "Collecting auto_ts\n",
            "\u001b[?25l  Downloading https://files.pythonhosted.org/packages/bc/b1/9ac83e74b805216fb69f3af78a354470823c23fdf6fbcdcfb59df6c8f557/auto_ts-0.0.36-py3-none-any.whl (90kB)\n",
            "\r\u001b[K     |███▋                            | 10kB 15.7MB/s eta 0:00:01\r\u001b[K     |███████▎                        | 20kB 13.8MB/s eta 0:00:01\r\u001b[K     |██████████▉                     | 30kB 9.3MB/s eta 0:00:01\r\u001b[K     |██████████████▌                 | 40kB 8.3MB/s eta 0:00:01\r\u001b[K     |██████████████████              | 51kB 4.7MB/s eta 0:00:01\r\u001b[K     |█████████████████████▊          | 61kB 5.2MB/s eta 0:00:01\r\u001b[K     |█████████████████████████▎      | 71kB 5.4MB/s eta 0:00:01\r\u001b[K     |█████████████████████████████   | 81kB 5.7MB/s eta 0:00:01\r\u001b[K     |████████████████████████████████| 92kB 4.0MB/s \n",
            "\u001b[?25hRequirement already satisfied: jupyter in /usr/local/lib/python3.7/dist-packages (from auto_ts) (1.0.0)\n",
            "Collecting pmdarima\n",
            "\u001b[?25l  Downloading https://files.pythonhosted.org/packages/e4/a8/bdf15174e35d072e145d16388b1d3bc7605b752610170cb022a290411427/pmdarima-1.8.0-cp37-cp37m-manylinux1_x86_64.whl (1.5MB)\n",
            "\u001b[K     |████████████████████████████████| 1.5MB 6.0MB/s \n",
            "\u001b[?25hRequirement already satisfied: pandas in /usr/local/lib/python3.7/dist-packages (from auto_ts) (1.1.5)\n",
            "Collecting scikit-learn>=0.24.0\n",
            "\u001b[?25l  Downloading https://files.pythonhosted.org/packages/f3/74/eb899f41d55f957e2591cde5528e75871f817d9fb46d4732423ecaca736d/scikit_learn-0.24.1-cp37-cp37m-manylinux2010_x86_64.whl (22.3MB)\n",
            "\u001b[K     |████████████████████████████████| 22.3MB 1.4MB/s \n",
            "\u001b[?25hRequirement already satisfied: seaborn in /usr/local/lib/python3.7/dist-packages (from auto_ts) (0.11.1)\n",
            "Requirement already satisfied: fbprophet in /usr/local/lib/python3.7/dist-packages (from auto_ts) (0.7.1)\n",
            "Requirement already satisfied: xgboost in /usr/local/lib/python3.7/dist-packages (from auto_ts) (0.90)\n",
            "Requirement already satisfied: matplotlib in /usr/local/lib/python3.7/dist-packages (from auto_ts) (3.2.2)\n",
            "Requirement already satisfied: statsmodels in /usr/local/lib/python3.7/dist-packages (from auto_ts) (0.10.2)\n",
            "Requirement already satisfied: ipython in /usr/local/lib/python3.7/dist-packages (from auto_ts) (5.5.0)\n",
            "Collecting dask>=2.30.0\n",
            "\u001b[?25l  Downloading https://files.pythonhosted.org/packages/58/bc/aaa302e77b3919b4a99f34fee3d87d008bbc40c70928f92329b27322fc51/dask-2021.3.1-py3-none-any.whl (935kB)\n",
            "\u001b[K     |████████████████████████████████| 942kB 39.2MB/s \n",
            "\u001b[?25hRequirement already satisfied: prettytable in /usr/local/lib/python3.7/dist-packages (from auto_ts) (2.1.0)\n",
            "Requirement already satisfied: ipykernel in /usr/local/lib/python3.7/dist-packages (from jupyter->auto_ts) (4.10.1)\n",
            "Requirement already satisfied: nbconvert in /usr/local/lib/python3.7/dist-packages (from jupyter->auto_ts) (5.6.1)\n",
            "Requirement already satisfied: jupyter-console in /usr/local/lib/python3.7/dist-packages (from jupyter->auto_ts) (5.2.0)\n",
            "Requirement already satisfied: notebook in /usr/local/lib/python3.7/dist-packages (from jupyter->auto_ts) (5.3.1)\n",
            "Requirement already satisfied: qtconsole in /usr/local/lib/python3.7/dist-packages (from jupyter->auto_ts) (5.0.3)\n",
            "Requirement already satisfied: ipywidgets in /usr/local/lib/python3.7/dist-packages (from jupyter->auto_ts) (7.6.3)\n",
            "Requirement already satisfied: scipy>=1.3.2 in /usr/local/lib/python3.7/dist-packages (from pmdarima->auto_ts) (1.4.1)\n",
            "Requirement already satisfied: urllib3 in /usr/local/lib/python3.7/dist-packages (from pmdarima->auto_ts) (1.24.3)\n",
            "Requirement already satisfied: numpy>=1.17.3 in /usr/local/lib/python3.7/dist-packages (from pmdarima->auto_ts) (1.19.5)\n",
            "Collecting Cython<0.29.18,>=0.29\n",
            "\u001b[?25l  Downloading https://files.pythonhosted.org/packages/dc/6c/198da24bf0a1d5b5ee6119e891c5300bb1b0b8904832fac9ff62d4e381c9/Cython-0.29.17-cp37-cp37m-manylinux1_x86_64.whl (2.1MB)\n",
            "\u001b[K     |████████████████████████████████| 2.1MB 60.0MB/s \n",
            "\u001b[?25hRequirement already satisfied: setuptools!=50.0.0,>=38.6.0 in /usr/local/lib/python3.7/dist-packages (from pmdarima->auto_ts) (54.1.2)\n",
            "Requirement already satisfied: joblib>=0.11 in /usr/local/lib/python3.7/dist-packages (from pmdarima->auto_ts) (1.0.1)\n",
            "Requirement already satisfied: python-dateutil>=2.7.3 in /usr/local/lib/python3.7/dist-packages (from pandas->auto_ts) (2.8.1)\n",
            "Requirement already satisfied: pytz>=2017.2 in /usr/local/lib/python3.7/dist-packages (from pandas->auto_ts) (2018.9)\n",
            "Collecting threadpoolctl>=2.0.0\n",
            "  Downloading https://files.pythonhosted.org/packages/f7/12/ec3f2e203afa394a149911729357aa48affc59c20e2c1c8297a60f33f133/threadpoolctl-2.1.0-py3-none-any.whl\n",
            "Requirement already satisfied: cmdstanpy==0.9.5 in /usr/local/lib/python3.7/dist-packages (from fbprophet->auto_ts) (0.9.5)\n",
            "Requirement already satisfied: pystan>=2.14 in /usr/local/lib/python3.7/dist-packages (from fbprophet->auto_ts) (2.19.1.1)\n",
            "Requirement already satisfied: LunarCalendar>=0.0.9 in /usr/local/lib/python3.7/dist-packages (from fbprophet->auto_ts) (0.0.9)\n",
            "Requirement already satisfied: convertdate>=2.1.2 in /usr/local/lib/python3.7/dist-packages (from fbprophet->auto_ts) (2.3.1)\n",
            "Requirement already satisfied: holidays>=0.10.2 in /usr/local/lib/python3.7/dist-packages (from fbprophet->auto_ts) (0.10.5.2)\n",
            "Requirement already satisfied: setuptools-git>=1.2 in /usr/local/lib/python3.7/dist-packages (from fbprophet->auto_ts) (1.2)\n",
            "Requirement already satisfied: tqdm>=4.36.1 in /usr/local/lib/python3.7/dist-packages (from fbprophet->auto_ts) (4.41.1)\n",
            "Requirement already satisfied: pyparsing!=2.0.4,!=2.1.2,!=2.1.6,>=2.0.1 in /usr/local/lib/python3.7/dist-packages (from matplotlib->auto_ts) (2.4.7)\n",
            "Requirement already satisfied: kiwisolver>=1.0.1 in /usr/local/lib/python3.7/dist-packages (from matplotlib->auto_ts) (1.3.1)\n",
            "Requirement already satisfied: cycler>=0.10 in /usr/local/lib/python3.7/dist-packages (from matplotlib->auto_ts) (0.10.0)\n",
            "Requirement already satisfied: patsy>=0.4.0 in /usr/local/lib/python3.7/dist-packages (from statsmodels->auto_ts) (0.5.1)\n",
            "Requirement already satisfied: traitlets>=4.2 in /usr/local/lib/python3.7/dist-packages (from ipython->auto_ts) (5.0.5)\n",
            "Requirement already satisfied: pickleshare in /usr/local/lib/python3.7/dist-packages (from ipython->auto_ts) (0.7.5)\n",
            "Requirement already satisfied: decorator in /usr/local/lib/python3.7/dist-packages (from ipython->auto_ts) (4.4.2)\n",
            "Requirement already satisfied: simplegeneric>0.8 in /usr/local/lib/python3.7/dist-packages (from ipython->auto_ts) (0.8.1)\n",
            "Requirement already satisfied: prompt-toolkit<2.0.0,>=1.0.4 in /usr/local/lib/python3.7/dist-packages (from ipython->auto_ts) (1.0.18)\n",
            "Requirement already satisfied: pexpect; sys_platform != \"win32\" in /usr/local/lib/python3.7/dist-packages (from ipython->auto_ts) (4.8.0)\n",
            "Requirement already satisfied: pygments in /usr/local/lib/python3.7/dist-packages (from ipython->auto_ts) (2.6.1)\n",
            "Requirement already satisfied: toolz>=0.8.2 in /usr/local/lib/python3.7/dist-packages (from dask>=2.30.0->auto_ts) (0.11.1)\n",
            "Collecting partd>=0.3.10\n",
            "  Downloading https://files.pythonhosted.org/packages/44/e1/68dbe731c9c067655bff1eca5b7d40c20ca4b23fd5ec9f3d17e201a6f36b/partd-1.1.0-py3-none-any.whl\n",
            "Collecting fsspec>=0.6.0\n",
            "\u001b[?25l  Downloading https://files.pythonhosted.org/packages/91/0d/a6bfee0ddf47b254286b9bd574e6f50978c69897647ae15b14230711806e/fsspec-0.8.7-py3-none-any.whl (103kB)\n",
            "\u001b[K     |████████████████████████████████| 112kB 62.4MB/s \n",
            "\u001b[?25hRequirement already satisfied: cloudpickle>=1.1.1 in /usr/local/lib/python3.7/dist-packages (from dask>=2.30.0->auto_ts) (1.3.0)\n",
            "Requirement already satisfied: pyyaml in /usr/local/lib/python3.7/dist-packages (from dask>=2.30.0->auto_ts) (3.13)\n",
            "Requirement already satisfied: importlib-metadata; python_version < \"3.8\" in /usr/local/lib/python3.7/dist-packages (from prettytable->auto_ts) (3.7.2)\n",
            "Requirement already satisfied: wcwidth in /usr/local/lib/python3.7/dist-packages (from prettytable->auto_ts) (0.2.5)\n",
            "Requirement already satisfied: jupyter-client in /usr/local/lib/python3.7/dist-packages (from ipykernel->jupyter->auto_ts) (5.3.5)\n",
            "Requirement already satisfied: tornado>=4.0 in /usr/local/lib/python3.7/dist-packages (from ipykernel->jupyter->auto_ts) (5.1.1)\n",
            "Requirement already satisfied: testpath in /usr/local/lib/python3.7/dist-packages (from nbconvert->jupyter->auto_ts) (0.4.4)\n",
            "Requirement already satisfied: nbformat>=4.4 in /usr/local/lib/python3.7/dist-packages (from nbconvert->jupyter->auto_ts) (5.1.2)\n",
            "Requirement already satisfied: jinja2>=2.4 in /usr/local/lib/python3.7/dist-packages (from nbconvert->jupyter->auto_ts) (2.11.3)\n",
            "Requirement already satisfied: bleach in /usr/local/lib/python3.7/dist-packages (from nbconvert->jupyter->auto_ts) (3.3.0)\n",
            "Requirement already satisfied: pandocfilters>=1.4.1 in /usr/local/lib/python3.7/dist-packages (from nbconvert->jupyter->auto_ts) (1.4.3)\n",
            "Requirement already satisfied: defusedxml in /usr/local/lib/python3.7/dist-packages (from nbconvert->jupyter->auto_ts) (0.7.1)\n",
            "Requirement already satisfied: entrypoints>=0.2.2 in /usr/local/lib/python3.7/dist-packages (from nbconvert->jupyter->auto_ts) (0.3)\n",
            "Requirement already satisfied: mistune<2,>=0.8.1 in /usr/local/lib/python3.7/dist-packages (from nbconvert->jupyter->auto_ts) (0.8.4)\n",
            "Requirement already satisfied: jupyter-core in /usr/local/lib/python3.7/dist-packages (from nbconvert->jupyter->auto_ts) (4.7.1)\n",
            "Requirement already satisfied: terminado>=0.8.1 in /usr/local/lib/python3.7/dist-packages (from notebook->jupyter->auto_ts) (0.9.2)\n",
            "Requirement already satisfied: ipython-genutils in /usr/local/lib/python3.7/dist-packages (from notebook->jupyter->auto_ts) (0.2.0)\n",
            "Requirement already satisfied: Send2Trash in /usr/local/lib/python3.7/dist-packages (from notebook->jupyter->auto_ts) (1.5.0)\n",
            "Requirement already satisfied: qtpy in /usr/local/lib/python3.7/dist-packages (from qtconsole->jupyter->auto_ts) (1.9.0)\n",
            "Requirement already satisfied: pyzmq>=17.1 in /usr/local/lib/python3.7/dist-packages (from qtconsole->jupyter->auto_ts) (22.0.3)\n",
            "Requirement already satisfied: widgetsnbextension~=3.5.0 in /usr/local/lib/python3.7/dist-packages (from ipywidgets->jupyter->auto_ts) (3.5.1)\n",
            "Requirement already satisfied: jupyterlab-widgets>=1.0.0; python_version >= \"3.6\" in /usr/local/lib/python3.7/dist-packages (from ipywidgets->jupyter->auto_ts) (1.0.0)\n",
            "Requirement already satisfied: six>=1.5 in /usr/local/lib/python3.7/dist-packages (from python-dateutil>=2.7.3->pandas->auto_ts) (1.15.0)\n",
            "Requirement already satisfied: ephem>=3.7.5.3 in /usr/local/lib/python3.7/dist-packages (from LunarCalendar>=0.0.9->fbprophet->auto_ts) (3.7.7.1)\n",
            "Requirement already satisfied: pymeeus!=0.3.8,<=1,>=0.3.6 in /usr/local/lib/python3.7/dist-packages (from convertdate>=2.1.2->fbprophet->auto_ts) (0.5.9)\n",
            "Requirement already satisfied: korean-lunar-calendar in /usr/local/lib/python3.7/dist-packages (from holidays>=0.10.2->fbprophet->auto_ts) (0.2.1)\n",
            "Requirement already satisfied: hijri-converter in /usr/local/lib/python3.7/dist-packages (from holidays>=0.10.2->fbprophet->auto_ts) (2.1.1)\n",
            "Requirement already satisfied: ptyprocess>=0.5 in /usr/local/lib/python3.7/dist-packages (from pexpect; sys_platform != \"win32\"->ipython->auto_ts) (0.7.0)\n",
            "Collecting locket\n",
            "  Downloading https://files.pythonhosted.org/packages/50/b8/e789e45b9b9c2db75e9d9e6ceb022c8d1d7e49b2c085ce8c05600f90a96b/locket-0.2.1-py2.py3-none-any.whl\n",
            "Requirement already satisfied: typing-extensions>=3.6.4; python_version < \"3.8\" in /usr/local/lib/python3.7/dist-packages (from importlib-metadata; python_version < \"3.8\"->prettytable->auto_ts) (3.7.4.3)\n",
            "Requirement already satisfied: zipp>=0.5 in /usr/local/lib/python3.7/dist-packages (from importlib-metadata; python_version < \"3.8\"->prettytable->auto_ts) (3.4.1)\n",
            "Requirement already satisfied: jsonschema!=2.5.0,>=2.4 in /usr/local/lib/python3.7/dist-packages (from nbformat>=4.4->nbconvert->jupyter->auto_ts) (2.6.0)\n",
            "Requirement already satisfied: MarkupSafe>=0.23 in /usr/local/lib/python3.7/dist-packages (from jinja2>=2.4->nbconvert->jupyter->auto_ts) (1.1.1)\n",
            "Requirement already satisfied: webencodings in /usr/local/lib/python3.7/dist-packages (from bleach->nbconvert->jupyter->auto_ts) (0.5.1)\n",
            "Requirement already satisfied: packaging in /usr/local/lib/python3.7/dist-packages (from bleach->nbconvert->jupyter->auto_ts) (20.9)\n",
            "\u001b[31mERROR: pmdarima 1.8.0 has requirement statsmodels!=0.12.0,>=0.11, but you'll have statsmodels 0.10.2 which is incompatible.\u001b[0m\n",
            "Installing collected packages: Cython, threadpoolctl, scikit-learn, pmdarima, locket, partd, fsspec, dask, auto-ts\n",
            "  Found existing installation: Cython 0.29.22\n",
            "    Uninstalling Cython-0.29.22:\n",
            "      Successfully uninstalled Cython-0.29.22\n",
            "  Found existing installation: scikit-learn 0.22.2.post1\n",
            "    Uninstalling scikit-learn-0.22.2.post1:\n",
            "      Successfully uninstalled scikit-learn-0.22.2.post1\n",
            "  Found existing installation: dask 2.12.0\n",
            "    Uninstalling dask-2.12.0:\n",
            "      Successfully uninstalled dask-2.12.0\n",
            "Successfully installed Cython-0.29.17 auto-ts-0.0.36 dask-2021.3.1 fsspec-0.8.7 locket-0.2.1 partd-1.1.0 pmdarima-1.8.0 scikit-learn-0.24.1 threadpoolctl-2.1.0\n"
          ],
          "name": "stdout"
        }
      ]
    },
    {
      "cell_type": "code",
      "metadata": {
        "colab": {
          "base_uri": "https://localhost:8080/"
        },
        "id": "tv2m1RIsZyJ_",
        "outputId": "c08529aa-45a1-4579-b071-03d2f93f49bf"
      },
      "source": [
        "!pip install tscv"
      ],
      "execution_count": 20,
      "outputs": [
        {
          "output_type": "stream",
          "text": [
            "Collecting tscv\n",
            "  Downloading https://files.pythonhosted.org/packages/c7/e9/9ce9971979857ff3d452f416a46cce07027b57c0383947c035c042c60fd1/tscv-0.0.4-py3-none-any.whl\n",
            "Installing collected packages: tscv\n",
            "Successfully installed tscv-0.0.4\n"
          ],
          "name": "stdout"
        }
      ]
    },
    {
      "cell_type": "code",
      "metadata": {
        "colab": {
          "base_uri": "https://localhost:8080/"
        },
        "id": "ORC6qLyJZyJ_",
        "outputId": "19d4ea1f-967e-46fa-e978-16467cb9ef6a"
      },
      "source": [
        "from auto_ts import auto_timeseries as ATS"
      ],
      "execution_count": 21,
      "outputs": [
        {
          "output_type": "stream",
          "text": [
            "Imported auto_timeseries version:0.0.36. Call by using:\n",
            "model = auto_timeseries(score_type='rmse',\n",
            "                time_interval='M',\n",
            "                non_seasonal_pdq=None, seasonality=False, seasonal_period=12,\n",
            "                model_type=['best'],\n",
            "                verbose=2)\n",
            "model.fit(traindata, ts_column,target)\n",
            "model.predict(testdata, model='best')\n",
            "\n"
          ],
          "name": "stdout"
        }
      ]
    },
    {
      "cell_type": "code",
      "metadata": {
        "id": "ingO9lLQZyJ_"
      },
      "source": [
        "test_length = 2336\n",
        "automl_model = ATS(\n",
        "    score_type='rmse',\n",
        "    forecast_period=test_length, time_interval='D',\n",
        "    model_type='best', verbose=0\n",
        ")"
      ],
      "execution_count": 23,
      "outputs": []
    },
    {
      "cell_type": "code",
      "metadata": {
        "id": "XicyWwTKa_OA"
      },
      "source": [
        "ts_column = 'ds'\n",
        "target = 'y'\n",
        "sep = ','"
      ],
      "execution_count": 24,
      "outputs": []
    },
    {
      "cell_type": "code",
      "metadata": {
        "colab": {
          "base_uri": "https://localhost:8080/"
        },
        "id": "Zxr6Fk5MbrRd",
        "outputId": "9c98f311-98e0-4f16-9eeb-ac16a7ce5fda"
      },
      "source": [
        "train_fb.shape"
      ],
      "execution_count": 25,
      "outputs": [
        {
          "output_type": "execute_result",
          "data": {
            "text/plain": [
              "(18015, 2)"
            ]
          },
          "metadata": {
            "tags": []
          },
          "execution_count": 25
        }
      ]
    },
    {
      "cell_type": "code",
      "metadata": {
        "colab": {
          "base_uri": "https://localhost:8080/"
        },
        "id": "rKn2L5fZbttf",
        "outputId": "e32872c0-a654-4bce-9660-816bac520e12"
      },
      "source": [
        "train_fb.info()"
      ],
      "execution_count": 26,
      "outputs": [
        {
          "output_type": "stream",
          "text": [
            "<class 'pandas.core.frame.DataFrame'>\n",
            "Int64Index: 18015 entries, 0 to 18014\n",
            "Data columns (total 2 columns):\n",
            " #   Column  Non-Null Count  Dtype         \n",
            "---  ------  --------------  -----         \n",
            " 0   ds      18015 non-null  datetime64[ns]\n",
            " 1   y       18015 non-null  float64       \n",
            "dtypes: datetime64[ns](1), float64(1)\n",
            "memory usage: 422.2 KB\n"
          ],
          "name": "stdout"
        }
      ]
    },
    {
      "cell_type": "code",
      "metadata": {
        "colab": {
          "base_uri": "https://localhost:8080/",
          "height": 1000
        },
        "id": "oOnqiDFWbwEn",
        "outputId": "83b2317f-1ee1-462e-f714-e01eec95e2e4"
      },
      "source": [
        "automl_model.fit(\n",
        "    traindata=train_fb,\n",
        "    ts_column=ts_column,\n",
        "    target=target,\n",
        "    cv=5,\n",
        "    sep=',')"
      ],
      "execution_count": 27,
      "outputs": [
        {
          "output_type": "stream",
          "text": [
            "Start of Fit.....\n",
            "    Target variable given as = y\n",
            "Start of loading of data.....\n",
            "Input is data frame. Performing Time Series Analysis\n",
            "ts_column: ds sep: , target: y\n",
            "    Loaded pandas dataframe...\n",
            "    pandas Dataframe loaded successfully. Shape of data set = (18015, 1)\n",
            "No time series plot since verbose = 0. Continuing\n",
            "Time Interval is given as D\n",
            "    Correct Time interval given as a valid Pandas date-range frequency...\n",
            "\u001b[1mWARNING: Running best models will take time... Be Patient...\u001b[0m\n",
            "\n",
            "\n",
            "==================================================\n",
            "Building Prophet Model\n",
            "==================================================\n",
            "\n",
            "\n",
            "\u001b[1m\n",
            "Running Facebook Prophet Model...\u001b[0m\n",
            "  Starting Prophet Fit\n",
            "      No seasonality assumed since seasonality flag is set to False\n",
            "  Starting Prophet Cross Validation\n",
            "Max. iterations using expanding window cross validation = 5\n",
            "\n",
            "Fold Number: 1 --> Train Shape: 6335 Test Shape: 2336\n",
            "    Root Mean Squared Error predictions vs actuals = 0.50\n",
            "    Std Deviation of actuals = 0.04\n",
            "    Normalized RMSE = 1206%\n",
            "Cross Validation window: 1 completed\n",
            "\n",
            "Fold Number: 2 --> Train Shape: 8671 Test Shape: 2336\n",
            "    Root Mean Squared Error predictions vs actuals = 1.20\n",
            "    Std Deviation of actuals = 0.07\n",
            "    Normalized RMSE = 1692%\n",
            "Cross Validation window: 2 completed\n",
            "\n",
            "Fold Number: 3 --> Train Shape: 11007 Test Shape: 2336\n",
            "    Root Mean Squared Error predictions vs actuals = 1.92\n",
            "    Std Deviation of actuals = 0.06\n",
            "    Normalized RMSE = 3222%\n",
            "Cross Validation window: 3 completed\n",
            "\n",
            "Fold Number: 4 --> Train Shape: 13343 Test Shape: 2336\n",
            "    Root Mean Squared Error predictions vs actuals = 0.60\n",
            "    Std Deviation of actuals = 0.05\n",
            "    Normalized RMSE = 1204%\n",
            "Cross Validation window: 4 completed\n",
            "\n",
            "Fold Number: 5 --> Train Shape: 15679 Test Shape: 2336\n",
            "    Root Mean Squared Error predictions vs actuals = 1.09\n",
            "    Std Deviation of actuals = 0.05\n",
            "    Normalized RMSE = 2354%\n",
            "Cross Validation window: 5 completed\n",
            "\n",
            "-------------------------------------------\n",
            "Model Cross Validation Results:\n",
            "-------------------------------------------\n",
            "    MAE (as % Std Dev of Actuals) = 1375.97%\n",
            "    MAPE (Mean Absolute Percent Error) = 68%\n",
            "    RMSE (Root Mean Squared Error) = 1.1770\n",
            "    Normalized RMSE (MinMax) = 364%\n",
            "    Normalized RMSE (as Std Dev of Actuals)= 1750%\n",
            "Time Taken = 65 seconds\n",
            "  End of Prophet Fit\n",
            "\n",
            "\n",
            "==================================================\n",
            "Building Auto SARIMAX Model\n",
            "==================================================\n",
            "\n",
            "\n",
            "\u001b[1m\n",
            "Running Auto SARIMAX Model...\u001b[0m\n",
            "    Using smaller parameters for larger dataset with greater than 1000 samples\n",
            "    Using smaller parameters for larger dataset with greater than 1000 samples\n",
            "    Using smaller parameters for larger dataset with greater than 1000 samples\n",
            "    Using smaller parameters for larger dataset with greater than 1000 samples\n",
            "    Using smaller parameters for larger dataset with greater than 1000 samples\n",
            "\n",
            "SARIMAX RMSE (all folds): 0.0986\n",
            "SARIMAX Norm RMSE (all folds): 111%\n",
            "\n",
            "\n",
            "-------------------------------------------\n",
            "Model Cross Validation Results:\n",
            "-------------------------------------------\n",
            "    MAE (as % Std Dev of Actuals) = 125.20%\n",
            "    MAPE (Mean Absolute Percent Error) = 6%\n",
            "    RMSE (Root Mean Squared Error) = 0.1009\n",
            "    Normalized RMSE (MinMax) = 31%\n",
            "    Normalized RMSE (as Std Dev of Actuals)= 150%\n",
            "    Using smaller parameters for larger dataset with greater than 1000 samples\n",
            "\u001b[1mRefitting data with previously found best parameters\u001b[0m\n",
            "    Best aic metric = -163737.3\n",
            "                           Statespace Model Results                           \n",
            "==============================================================================\n",
            "Dep. Variable:                      y   No. Observations:                18015\n",
            "Model:               SARIMAX(0, 1, 0)   Log Likelihood               81871.627\n",
            "Date:                Sat, 27 Mar 2021   AIC                        -163737.255\n",
            "Time:                        06:52:53   BIC                        -163713.858\n",
            "Sample:                    11-22-2007   HQIC                       -163729.561\n",
            "                         - 01-01-2012                                         \n",
            "Covariance Type:                  opg                                         \n",
            "==============================================================================\n",
            "                 coef    std err          z      P>|z|      [0.025      0.975]\n",
            "------------------------------------------------------------------------------\n",
            "intercept  -7.562e-06   3.69e-05     -0.205      0.838   -7.98e-05    6.47e-05\n",
            "drift      -3.441e-10   3.76e-09     -0.092      0.927   -7.71e-09    7.02e-09\n",
            "sigma2      6.602e-06   2.98e-08    221.798      0.000    6.54e-06    6.66e-06\n",
            "===================================================================================\n",
            "Ljung-Box (Q):                       83.76   Jarque-Bera (JB):             59796.70\n",
            "Prob(Q):                              0.00   Prob(JB):                         0.00\n",
            "Heteroskedasticity (H):               0.63   Skew:                             0.05\n",
            "Prob(H) (two-sided):                  0.00   Kurtosis:                        11.93\n",
            "===================================================================================\n",
            "\n",
            "Warnings:\n",
            "[1] Covariance matrix calculated using the outer product of gradients (complex-step).\n",
            "\u001b[1m\n",
            "===============================================\u001b[0m\n",
            "Skipping VAR Model since dataset is > 1000 rows and it will take too long\n",
            "\u001b[1m===============================================\u001b[0m\n",
            "\n",
            "\n",
            "==================================================\n",
            "Building ML Model\n",
            "==================================================\n",
            "\n",
            "\n",
            "\u001b[1m\n",
            "Creating lag=12 variable using target for Machine Learning model...\u001b[0m\n",
            "\n",
            "Fitting ML model\n",
            "    14 variables used in training ML model = ['y(t-4)', 'y(t-3)', 'y(t-2)', 'y(t-1)', 'ds_hour', 'ds_minute', 'ds_dayofweek', 'ds_quarter', 'ds_month', 'ds_year', 'ds_dayofyear', 'ds_dayofmonth', 'ds_weekofyear', 'ds_weekend']\n",
            "\n",
            "Running Cross Validation using XGBoost model..\n",
            "Max. iterations using expanding window cross validation = 5\n",
            "\n",
            "Fold Number: 1 --> Train Shape: 6331 Test Shape: 2336\n",
            "Exception occurred while building ML model...\n",
            "Invalid Parameter format for verbosity expect int but value='None'\n",
            "    For ML model, evaluation score is not available.\n",
            "\u001b[1m\n",
            "Best Model is: \u001b[0mauto_SARIMAX\n",
            "    Best Model (Mean CV) Score: 0.10\n",
            "\n",
            "\n",
            "--------------------------------------------------\n",
            "Total time taken: 364 seconds.\n",
            "--------------------------------------------------\n",
            "\n",
            "\n",
            "Leaderboard with best model on top of list:\n",
            "            name      rmse\n",
            "1  auto_SARIMAX  0.098641\n",
            "0       Prophet  1.061839\n",
            "2            ML       inf\n"
          ],
          "name": "stdout"
        },
        {
          "output_type": "execute_result",
          "data": {
            "text/plain": [
              "<auto_ts.auto_timeseries at 0x7f5b93223f10>"
            ]
          },
          "metadata": {
            "tags": []
          },
          "execution_count": 27
        },
        {
          "output_type": "display_data",
          "data": {
            "image/png": "[encoded data removed]",
            "text/plain": [
              "<Figure size 720x432 with 1 Axes>"
            ]
          },
          "metadata": {
            "tags": []
          }
        },
        {
          "output_type": "display_data",
          "data": {
            "image/png": "[encoded data removed]",
            "text/plain": [
              "<Figure size 1080x576 with 1 Axes>"
            ]
          },
          "metadata": {
            "tags": []
          }
        },
        {
          "output_type": "display_data",
          "data": {
            "image/png": "[encoded data removed]",
            "text/plain": [
              "<Figure size 1080x576 with 1 Axes>"
            ]
          },
          "metadata": {
            "tags": []
          }
        }
      ]
    },
    {
      "cell_type": "code",
      "metadata": {
        "colab": {
          "base_uri": "https://localhost:8080/",
          "height": 143
        },
        "id": "gDsI0-CVb3T9",
        "outputId": "1188c862-8dbe-4c21-884f-a5b4cdd1c31a"
      },
      "source": [
        "automl_model.get_leaderboard()"
      ],
      "execution_count": 28,
      "outputs": [
        {
          "output_type": "execute_result",
          "data": {
            "text/html": [
              "<div>\n",
              "<style scoped>\n",
              "    .dataframe tbody tr th:only-of-type {\n",
              "        vertical-align: middle;\n",
              "    }\n",
              "\n",
              "    .dataframe tbody tr th {\n",
              "        vertical-align: top;\n",
              "    }\n",
              "\n",
              "    .dataframe thead th {\n",
              "        text-align: right;\n",
              "    }\n",
              "</style>\n",
              "<table border=\"1\" class=\"dataframe\">\n",
              "  <thead>\n",
              "    <tr style=\"text-align: right;\">\n",
              "      <th></th>\n",
              "      <th>name</th>\n",
              "      <th>rmse</th>\n",
              "    </tr>\n",
              "  </thead>\n",
              "  <tbody>\n",
              "    <tr>\n",
              "      <th>1</th>\n",
              "      <td>auto_SARIMAX</td>\n",
              "      <td>0.098641</td>\n",
              "    </tr>\n",
              "    <tr>\n",
              "      <th>0</th>\n",
              "      <td>Prophet</td>\n",
              "      <td>1.061839</td>\n",
              "    </tr>\n",
              "    <tr>\n",
              "      <th>2</th>\n",
              "      <td>ML</td>\n",
              "      <td>inf</td>\n",
              "    </tr>\n",
              "  </tbody>\n",
              "</table>\n",
              "</div>"
            ],
            "text/plain": [
              "           name      rmse\n",
              "1  auto_SARIMAX  0.098641\n",
              "0       Prophet  1.061839\n",
              "2            ML       inf"
            ]
          },
          "metadata": {
            "tags": []
          },
          "execution_count": 28
        }
      ]
    },
    {
      "cell_type": "code",
      "metadata": {
        "colab": {
          "base_uri": "https://localhost:8080/",
          "height": 305
        },
        "id": "RbLbFSSydG1f",
        "outputId": "5ac33dd0-ae67-496a-aba0-944febbc6eb3"
      },
      "source": [
        "automl_model.plot_cv_scores()"
      ],
      "execution_count": 29,
      "outputs": [
        {
          "output_type": "execute_result",
          "data": {
            "text/plain": [
              "<matplotlib.axes._subplots.AxesSubplot at 0x7f5b859b6b10>"
            ]
          },
          "metadata": {
            "tags": []
          },
          "execution_count": 29
        },
        {
          "output_type": "display_data",
          "data": {
            "image/png": "[encoded data removed]",
            "text/plain": [
              "<Figure size 432x288 with 1 Axes>"
            ]
          },
          "metadata": {
            "tags": []
          }
        }
      ]
    },
    {
      "cell_type": "code",
      "metadata": {
        "colab": {
          "base_uri": "https://localhost:8080/",
          "height": 394
        },
        "id": "VxmcjaradIi_",
        "outputId": "21fb5bf8-10e3-4579-b320-dfea396c29f6"
      },
      "source": [
        "# There is a Bug with Prophet folds: https://github.com/AutoViML/Auto_TS/issues/25\n",
        "automl_model.get_cv_scores()"
      ],
      "execution_count": 30,
      "outputs": [
        {
          "output_type": "execute_result",
          "data": {
            "text/html": [
              "<div>\n",
              "<style scoped>\n",
              "    .dataframe tbody tr th:only-of-type {\n",
              "        vertical-align: middle;\n",
              "    }\n",
              "\n",
              "    .dataframe tbody tr th {\n",
              "        vertical-align: top;\n",
              "    }\n",
              "\n",
              "    .dataframe thead th {\n",
              "        text-align: right;\n",
              "    }\n",
              "</style>\n",
              "<table border=\"1\" class=\"dataframe\">\n",
              "  <thead>\n",
              "    <tr style=\"text-align: right;\">\n",
              "      <th></th>\n",
              "      <th>Model</th>\n",
              "      <th>CV Scores</th>\n",
              "    </tr>\n",
              "  </thead>\n",
              "  <tbody>\n",
              "    <tr>\n",
              "      <th>0</th>\n",
              "      <td>Prophet</td>\n",
              "      <td>0.497098</td>\n",
              "    </tr>\n",
              "    <tr>\n",
              "      <th>1</th>\n",
              "      <td>Prophet</td>\n",
              "      <td>1.195654</td>\n",
              "    </tr>\n",
              "    <tr>\n",
              "      <th>2</th>\n",
              "      <td>Prophet</td>\n",
              "      <td>1.923141</td>\n",
              "    </tr>\n",
              "    <tr>\n",
              "      <th>3</th>\n",
              "      <td>Prophet</td>\n",
              "      <td>0.604239</td>\n",
              "    </tr>\n",
              "    <tr>\n",
              "      <th>4</th>\n",
              "      <td>Prophet</td>\n",
              "      <td>1.089060</td>\n",
              "    </tr>\n",
              "    <tr>\n",
              "      <th>5</th>\n",
              "      <td>auto_SARIMAX</td>\n",
              "      <td>0.109115</td>\n",
              "    </tr>\n",
              "    <tr>\n",
              "      <th>6</th>\n",
              "      <td>auto_SARIMAX</td>\n",
              "      <td>0.131369</td>\n",
              "    </tr>\n",
              "    <tr>\n",
              "      <th>7</th>\n",
              "      <td>auto_SARIMAX</td>\n",
              "      <td>0.098924</td>\n",
              "    </tr>\n",
              "    <tr>\n",
              "      <th>8</th>\n",
              "      <td>auto_SARIMAX</td>\n",
              "      <td>0.083302</td>\n",
              "    </tr>\n",
              "    <tr>\n",
              "      <th>9</th>\n",
              "      <td>auto_SARIMAX</td>\n",
              "      <td>0.070495</td>\n",
              "    </tr>\n",
              "    <tr>\n",
              "      <th>10</th>\n",
              "      <td>ML</td>\n",
              "      <td>inf</td>\n",
              "    </tr>\n",
              "  </tbody>\n",
              "</table>\n",
              "</div>"
            ],
            "text/plain": [
              "           Model  CV Scores\n",
              "0        Prophet   0.497098\n",
              "1        Prophet   1.195654\n",
              "2        Prophet   1.923141\n",
              "3        Prophet   0.604239\n",
              "4        Prophet   1.089060\n",
              "5   auto_SARIMAX   0.109115\n",
              "6   auto_SARIMAX   0.131369\n",
              "7   auto_SARIMAX   0.098924\n",
              "8   auto_SARIMAX   0.083302\n",
              "9   auto_SARIMAX   0.070495\n",
              "10            ML        inf"
            ]
          },
          "metadata": {
            "tags": []
          },
          "execution_count": 30
        }
      ]
    },
    {
      "cell_type": "code",
      "metadata": {
        "colab": {
          "base_uri": "https://localhost:8080/"
        },
        "id": "6RDyBzpodLA3",
        "outputId": "44f57876-88ba-4512-d3a4-81c6fd0148d4"
      },
      "source": [
        "results_dict = automl_model.get_ml_dict()\n",
        "results_dict['Prophet']['forecast']"
      ],
      "execution_count": 31,
      "outputs": [
        {
          "output_type": "execute_result",
          "data": {
            "text/plain": [
              "array([1.3012001 , 1.29863399, 1.30085946, ..., 3.17777805, 3.17777797,\n",
              "       3.17845981])"
            ]
          },
          "metadata": {
            "tags": []
          },
          "execution_count": 31
        }
      ]
    },
    {
      "cell_type": "code",
      "metadata": {
        "colab": {
          "base_uri": "https://localhost:8080/"
        },
        "id": "99J85BtPdNOH",
        "outputId": "2e0ba19e-76d9-4635-92ce-bac975876cdb"
      },
      "source": [
        "results_dict['auto_SARIMAX']['forecast']"
      ],
      "execution_count": 32,
      "outputs": [
        {
          "output_type": "execute_result",
          "data": {
            "text/plain": [
              "[array([1.3276592, 1.3276592, 1.3276592, ..., 1.3276592, 1.3276592,\n",
              "        1.3276592]),\n",
              " array([1.4929872, 1.4929872, 1.4929872, ..., 1.4929872, 1.4929872,\n",
              "        1.4929872]),\n",
              " array([1.22911506, 1.22911398, 1.22911401, ..., 1.22911401, 1.22911401,\n",
              "        1.22911401]),\n",
              " array([1.32572, 1.32572, 1.32572, ..., 1.32572, 1.32572, 1.32572]),\n",
              " array([1.43616, 1.43616, 1.43616, ..., 1.43616, 1.43616, 1.43616])]"
            ]
          },
          "metadata": {
            "tags": []
          },
          "execution_count": 32
        }
      ]
    },
    {
      "cell_type": "code",
      "metadata": {
        "colab": {
          "base_uri": "https://localhost:8080/",
          "height": 423
        },
        "id": "Ui_VzCnbdPG_",
        "outputId": "6eef6b16-402e-4cbd-8bdf-b7dfb62f24e0"
      },
      "source": [
        "# Forecast Results\n",
        "# Using Best Model\n",
        "future_predictions = automl_model.predict(\n",
        "    testdata=test_length\n",
        ")  \n",
        "future_predictions"
      ],
      "execution_count": 33,
      "outputs": [
        {
          "output_type": "execute_result",
          "data": {
            "text/html": [
              "<div>\n",
              "<style scoped>\n",
              "    .dataframe tbody tr th:only-of-type {\n",
              "        vertical-align: middle;\n",
              "    }\n",
              "\n",
              "    .dataframe tbody tr th {\n",
              "        vertical-align: top;\n",
              "    }\n",
              "\n",
              "    .dataframe thead th {\n",
              "        text-align: right;\n",
              "    }\n",
              "</style>\n",
              "<table border=\"1\" class=\"dataframe\">\n",
              "  <thead>\n",
              "    <tr style=\"text-align: right;\">\n",
              "      <th>y</th>\n",
              "      <th>yhat</th>\n",
              "      <th>mean_se</th>\n",
              "      <th>mean_ci_lower</th>\n",
              "      <th>mean_ci_upper</th>\n",
              "    </tr>\n",
              "  </thead>\n",
              "  <tbody>\n",
              "    <tr>\n",
              "      <th>2012-01-01 22:00:00</th>\n",
              "      <td>1.292416</td>\n",
              "      <td>0.002569</td>\n",
              "      <td>1.287380</td>\n",
              "      <td>1.297452</td>\n",
              "    </tr>\n",
              "    <tr>\n",
              "      <th>2012-01-02 00:00:00</th>\n",
              "      <td>1.292402</td>\n",
              "      <td>0.003634</td>\n",
              "      <td>1.285281</td>\n",
              "      <td>1.299524</td>\n",
              "    </tr>\n",
              "    <tr>\n",
              "      <th>2012-01-02 02:00:00</th>\n",
              "      <td>1.292389</td>\n",
              "      <td>0.004450</td>\n",
              "      <td>1.283666</td>\n",
              "      <td>1.301111</td>\n",
              "    </tr>\n",
              "    <tr>\n",
              "      <th>2012-01-02 04:00:00</th>\n",
              "      <td>1.292375</td>\n",
              "      <td>0.005139</td>\n",
              "      <td>1.282303</td>\n",
              "      <td>1.302447</td>\n",
              "    </tr>\n",
              "    <tr>\n",
              "      <th>2012-01-02 06:00:00</th>\n",
              "      <td>1.292361</td>\n",
              "      <td>0.005745</td>\n",
              "      <td>1.281101</td>\n",
              "      <td>1.303622</td>\n",
              "    </tr>\n",
              "    <tr>\n",
              "      <th>...</th>\n",
              "      <td>...</td>\n",
              "      <td>...</td>\n",
              "      <td>...</td>\n",
              "      <td>...</td>\n",
              "    </tr>\n",
              "    <tr>\n",
              "      <th>2012-07-14 04:00:00</th>\n",
              "      <td>1.259402</td>\n",
              "      <td>0.124076</td>\n",
              "      <td>1.016217</td>\n",
              "      <td>1.502586</td>\n",
              "    </tr>\n",
              "    <tr>\n",
              "      <th>2012-07-14 06:00:00</th>\n",
              "      <td>1.259387</td>\n",
              "      <td>0.124103</td>\n",
              "      <td>1.016150</td>\n",
              "      <td>1.502624</td>\n",
              "    </tr>\n",
              "    <tr>\n",
              "      <th>2012-07-14 08:00:00</th>\n",
              "      <td>1.259372</td>\n",
              "      <td>0.124129</td>\n",
              "      <td>1.016084</td>\n",
              "      <td>1.502661</td>\n",
              "    </tr>\n",
              "    <tr>\n",
              "      <th>2012-07-14 10:00:00</th>\n",
              "      <td>1.259358</td>\n",
              "      <td>0.124156</td>\n",
              "      <td>1.016017</td>\n",
              "      <td>1.502699</td>\n",
              "    </tr>\n",
              "    <tr>\n",
              "      <th>2012-07-14 12:00:00</th>\n",
              "      <td>1.259343</td>\n",
              "      <td>0.124182</td>\n",
              "      <td>1.015950</td>\n",
              "      <td>1.502736</td>\n",
              "    </tr>\n",
              "  </tbody>\n",
              "</table>\n",
              "<p>2336 rows × 4 columns</p>\n",
              "</div>"
            ],
            "text/plain": [
              "y                        yhat   mean_se  mean_ci_lower  mean_ci_upper\n",
              "2012-01-01 22:00:00  1.292416  0.002569       1.287380       1.297452\n",
              "2012-01-02 00:00:00  1.292402  0.003634       1.285281       1.299524\n",
              "2012-01-02 02:00:00  1.292389  0.004450       1.283666       1.301111\n",
              "2012-01-02 04:00:00  1.292375  0.005139       1.282303       1.302447\n",
              "2012-01-02 06:00:00  1.292361  0.005745       1.281101       1.303622\n",
              "...                       ...       ...            ...            ...\n",
              "2012-07-14 04:00:00  1.259402  0.124076       1.016217       1.502586\n",
              "2012-07-14 06:00:00  1.259387  0.124103       1.016150       1.502624\n",
              "2012-07-14 08:00:00  1.259372  0.124129       1.016084       1.502661\n",
              "2012-07-14 10:00:00  1.259358  0.124156       1.016017       1.502699\n",
              "2012-07-14 12:00:00  1.259343  0.124182       1.015950       1.502736\n",
              "\n",
              "[2336 rows x 4 columns]"
            ]
          },
          "metadata": {
            "tags": []
          },
          "execution_count": 33
        }
      ]
    },
    {
      "cell_type": "code",
      "metadata": {
        "colab": {
          "base_uri": "https://localhost:8080/",
          "height": 423
        },
        "id": "lhuvZV9ldTuf",
        "outputId": "792cc828-72b3-41dc-e888-6e9c91d732ec"
      },
      "source": [
        "# Using specific model\n",
        "future_predictions = automl_model.predict(\n",
        "    testdata=test_length,\n",
        "    model='auto_SARIMAX'\n",
        ")\n",
        "future_predictions"
      ],
      "execution_count": 34,
      "outputs": [
        {
          "output_type": "execute_result",
          "data": {
            "text/html": [
              "<div>\n",
              "<style scoped>\n",
              "    .dataframe tbody tr th:only-of-type {\n",
              "        vertical-align: middle;\n",
              "    }\n",
              "\n",
              "    .dataframe tbody tr th {\n",
              "        vertical-align: top;\n",
              "    }\n",
              "\n",
              "    .dataframe thead th {\n",
              "        text-align: right;\n",
              "    }\n",
              "</style>\n",
              "<table border=\"1\" class=\"dataframe\">\n",
              "  <thead>\n",
              "    <tr style=\"text-align: right;\">\n",
              "      <th>y</th>\n",
              "      <th>yhat</th>\n",
              "      <th>mean_se</th>\n",
              "      <th>mean_ci_lower</th>\n",
              "      <th>mean_ci_upper</th>\n",
              "    </tr>\n",
              "  </thead>\n",
              "  <tbody>\n",
              "    <tr>\n",
              "      <th>2012-01-01 22:00:00</th>\n",
              "      <td>1.292416</td>\n",
              "      <td>0.002569</td>\n",
              "      <td>1.287380</td>\n",
              "      <td>1.297452</td>\n",
              "    </tr>\n",
              "    <tr>\n",
              "      <th>2012-01-02 00:00:00</th>\n",
              "      <td>1.292402</td>\n",
              "      <td>0.003634</td>\n",
              "      <td>1.285281</td>\n",
              "      <td>1.299524</td>\n",
              "    </tr>\n",
              "    <tr>\n",
              "      <th>2012-01-02 02:00:00</th>\n",
              "      <td>1.292389</td>\n",
              "      <td>0.004450</td>\n",
              "      <td>1.283666</td>\n",
              "      <td>1.301111</td>\n",
              "    </tr>\n",
              "    <tr>\n",
              "      <th>2012-01-02 04:00:00</th>\n",
              "      <td>1.292375</td>\n",
              "      <td>0.005139</td>\n",
              "      <td>1.282303</td>\n",
              "      <td>1.302447</td>\n",
              "    </tr>\n",
              "    <tr>\n",
              "      <th>2012-01-02 06:00:00</th>\n",
              "      <td>1.292361</td>\n",
              "      <td>0.005745</td>\n",
              "      <td>1.281101</td>\n",
              "      <td>1.303622</td>\n",
              "    </tr>\n",
              "    <tr>\n",
              "      <th>...</th>\n",
              "      <td>...</td>\n",
              "      <td>...</td>\n",
              "      <td>...</td>\n",
              "      <td>...</td>\n",
              "    </tr>\n",
              "    <tr>\n",
              "      <th>2012-07-14 04:00:00</th>\n",
              "      <td>1.259402</td>\n",
              "      <td>0.124076</td>\n",
              "      <td>1.016217</td>\n",
              "      <td>1.502586</td>\n",
              "    </tr>\n",
              "    <tr>\n",
              "      <th>2012-07-14 06:00:00</th>\n",
              "      <td>1.259387</td>\n",
              "      <td>0.124103</td>\n",
              "      <td>1.016150</td>\n",
              "      <td>1.502624</td>\n",
              "    </tr>\n",
              "    <tr>\n",
              "      <th>2012-07-14 08:00:00</th>\n",
              "      <td>1.259372</td>\n",
              "      <td>0.124129</td>\n",
              "      <td>1.016084</td>\n",
              "      <td>1.502661</td>\n",
              "    </tr>\n",
              "    <tr>\n",
              "      <th>2012-07-14 10:00:00</th>\n",
              "      <td>1.259358</td>\n",
              "      <td>0.124156</td>\n",
              "      <td>1.016017</td>\n",
              "      <td>1.502699</td>\n",
              "    </tr>\n",
              "    <tr>\n",
              "      <th>2012-07-14 12:00:00</th>\n",
              "      <td>1.259343</td>\n",
              "      <td>0.124182</td>\n",
              "      <td>1.015950</td>\n",
              "      <td>1.502736</td>\n",
              "    </tr>\n",
              "  </tbody>\n",
              "</table>\n",
              "<p>2336 rows × 4 columns</p>\n",
              "</div>"
            ],
            "text/plain": [
              "y                        yhat   mean_se  mean_ci_lower  mean_ci_upper\n",
              "2012-01-01 22:00:00  1.292416  0.002569       1.287380       1.297452\n",
              "2012-01-02 00:00:00  1.292402  0.003634       1.285281       1.299524\n",
              "2012-01-02 02:00:00  1.292389  0.004450       1.283666       1.301111\n",
              "2012-01-02 04:00:00  1.292375  0.005139       1.282303       1.302447\n",
              "2012-01-02 06:00:00  1.292361  0.005745       1.281101       1.303622\n",
              "...                       ...       ...            ...            ...\n",
              "2012-07-14 04:00:00  1.259402  0.124076       1.016217       1.502586\n",
              "2012-07-14 06:00:00  1.259387  0.124103       1.016150       1.502624\n",
              "2012-07-14 08:00:00  1.259372  0.124129       1.016084       1.502661\n",
              "2012-07-14 10:00:00  1.259358  0.124156       1.016017       1.502699\n",
              "2012-07-14 12:00:00  1.259343  0.124182       1.015950       1.502736\n",
              "\n",
              "[2336 rows x 4 columns]"
            ]
          },
          "metadata": {
            "tags": []
          },
          "execution_count": 34
        }
      ]
    },
    {
      "cell_type": "code",
      "metadata": {
        "colab": {
          "base_uri": "https://localhost:8080/",
          "height": 807
        },
        "id": "GY0x9FDadVRe",
        "outputId": "d36c31f6-7993-41de-9d69-900d453dda95"
      },
      "source": [
        "# Using specific model\n",
        "future_predictions = automl_model.predict(\n",
        "    testdata=test_length,\n",
        "    model='Prophet',\n",
        "    simple=False\n",
        "\n",
        ")\n",
        "future_predictions"
      ],
      "execution_count": 35,
      "outputs": [
        {
          "output_type": "stream",
          "text": [
            "Building Forecast dataframe. Forecast Period = 2336\n"
          ],
          "name": "stdout"
        },
        {
          "output_type": "execute_result",
          "data": {
            "text/html": [
              "<div>\n",
              "<style scoped>\n",
              "    .dataframe tbody tr th:only-of-type {\n",
              "        vertical-align: middle;\n",
              "    }\n",
              "\n",
              "    .dataframe tbody tr th {\n",
              "        vertical-align: top;\n",
              "    }\n",
              "\n",
              "    .dataframe thead th {\n",
              "        text-align: right;\n",
              "    }\n",
              "</style>\n",
              "<table border=\"1\" class=\"dataframe\">\n",
              "  <thead>\n",
              "    <tr style=\"text-align: right;\">\n",
              "      <th></th>\n",
              "      <th>ds</th>\n",
              "      <th>trend</th>\n",
              "      <th>yhat_lower</th>\n",
              "      <th>yhat_upper</th>\n",
              "      <th>trend_lower</th>\n",
              "      <th>trend_upper</th>\n",
              "      <th>additive_terms</th>\n",
              "      <th>additive_terms_lower</th>\n",
              "      <th>additive_terms_upper</th>\n",
              "      <th>daily</th>\n",
              "      <th>daily_lower</th>\n",
              "      <th>daily_upper</th>\n",
              "      <th>weekly</th>\n",
              "      <th>weekly_lower</th>\n",
              "      <th>weekly_upper</th>\n",
              "      <th>yearly</th>\n",
              "      <th>yearly_lower</th>\n",
              "      <th>yearly_upper</th>\n",
              "      <th>multiplicative_terms</th>\n",
              "      <th>multiplicative_terms_lower</th>\n",
              "      <th>multiplicative_terms_upper</th>\n",
              "      <th>yhat</th>\n",
              "    </tr>\n",
              "  </thead>\n",
              "  <tbody>\n",
              "    <tr>\n",
              "      <th>18015</th>\n",
              "      <td>2012-01-02 20:00:00</td>\n",
              "      <td>1.336586</td>\n",
              "      <td>1.272085</td>\n",
              "      <td>1.359930</td>\n",
              "      <td>1.336586</td>\n",
              "      <td>1.336586</td>\n",
              "      <td>-0.020694</td>\n",
              "      <td>-0.020694</td>\n",
              "      <td>-0.020694</td>\n",
              "      <td>-0.000007</td>\n",
              "      <td>-0.000007</td>\n",
              "      <td>-0.000007</td>\n",
              "      <td>-0.000481</td>\n",
              "      <td>-0.000481</td>\n",
              "      <td>-0.000481</td>\n",
              "      <td>-0.020206</td>\n",
              "      <td>-0.020206</td>\n",
              "      <td>-0.020206</td>\n",
              "      <td>0.0</td>\n",
              "      <td>0.0</td>\n",
              "      <td>0.0</td>\n",
              "      <td>1.315892</td>\n",
              "    </tr>\n",
              "    <tr>\n",
              "      <th>18016</th>\n",
              "      <td>2012-01-03 20:00:00</td>\n",
              "      <td>1.336248</td>\n",
              "      <td>1.268595</td>\n",
              "      <td>1.359244</td>\n",
              "      <td>1.336248</td>\n",
              "      <td>1.336248</td>\n",
              "      <td>-0.020700</td>\n",
              "      <td>-0.020700</td>\n",
              "      <td>-0.020700</td>\n",
              "      <td>-0.000007</td>\n",
              "      <td>-0.000007</td>\n",
              "      <td>-0.000007</td>\n",
              "      <td>-0.000396</td>\n",
              "      <td>-0.000396</td>\n",
              "      <td>-0.000396</td>\n",
              "      <td>-0.020297</td>\n",
              "      <td>-0.020297</td>\n",
              "      <td>-0.020297</td>\n",
              "      <td>0.0</td>\n",
              "      <td>0.0</td>\n",
              "      <td>0.0</td>\n",
              "      <td>1.315549</td>\n",
              "    </tr>\n",
              "    <tr>\n",
              "      <th>18017</th>\n",
              "      <td>2012-01-04 20:00:00</td>\n",
              "      <td>1.335911</td>\n",
              "      <td>1.270542</td>\n",
              "      <td>1.362651</td>\n",
              "      <td>1.335911</td>\n",
              "      <td>1.335911</td>\n",
              "      <td>-0.020029</td>\n",
              "      <td>-0.020029</td>\n",
              "      <td>-0.020029</td>\n",
              "      <td>-0.000007</td>\n",
              "      <td>-0.000007</td>\n",
              "      <td>-0.000007</td>\n",
              "      <td>0.000424</td>\n",
              "      <td>0.000424</td>\n",
              "      <td>0.000424</td>\n",
              "      <td>-0.020447</td>\n",
              "      <td>-0.020447</td>\n",
              "      <td>-0.020447</td>\n",
              "      <td>0.0</td>\n",
              "      <td>0.0</td>\n",
              "      <td>0.0</td>\n",
              "      <td>1.315882</td>\n",
              "    </tr>\n",
              "    <tr>\n",
              "      <th>18018</th>\n",
              "      <td>2012-01-05 20:00:00</td>\n",
              "      <td>1.335574</td>\n",
              "      <td>1.269770</td>\n",
              "      <td>1.358550</td>\n",
              "      <td>1.335574</td>\n",
              "      <td>1.335574</td>\n",
              "      <td>-0.020365</td>\n",
              "      <td>-0.020365</td>\n",
              "      <td>-0.020365</td>\n",
              "      <td>-0.000007</td>\n",
              "      <td>-0.000007</td>\n",
              "      <td>-0.000007</td>\n",
              "      <td>0.000293</td>\n",
              "      <td>0.000293</td>\n",
              "      <td>0.000293</td>\n",
              "      <td>-0.020651</td>\n",
              "      <td>-0.020651</td>\n",
              "      <td>-0.020651</td>\n",
              "      <td>0.0</td>\n",
              "      <td>0.0</td>\n",
              "      <td>0.0</td>\n",
              "      <td>1.315209</td>\n",
              "    </tr>\n",
              "    <tr>\n",
              "      <th>18019</th>\n",
              "      <td>2012-01-06 20:00:00</td>\n",
              "      <td>1.335236</td>\n",
              "      <td>1.273046</td>\n",
              "      <td>1.359973</td>\n",
              "      <td>1.335236</td>\n",
              "      <td>1.335236</td>\n",
              "      <td>-0.021079</td>\n",
              "      <td>-0.021079</td>\n",
              "      <td>-0.021079</td>\n",
              "      <td>-0.000007</td>\n",
              "      <td>-0.000007</td>\n",
              "      <td>-0.000007</td>\n",
              "      <td>-0.000165</td>\n",
              "      <td>-0.000165</td>\n",
              "      <td>-0.000165</td>\n",
              "      <td>-0.020907</td>\n",
              "      <td>-0.020907</td>\n",
              "      <td>-0.020907</td>\n",
              "      <td>0.0</td>\n",
              "      <td>0.0</td>\n",
              "      <td>0.0</td>\n",
              "      <td>1.314157</td>\n",
              "    </tr>\n",
              "    <tr>\n",
              "      <th>...</th>\n",
              "      <td>...</td>\n",
              "      <td>...</td>\n",
              "      <td>...</td>\n",
              "      <td>...</td>\n",
              "      <td>...</td>\n",
              "      <td>...</td>\n",
              "      <td>...</td>\n",
              "      <td>...</td>\n",
              "      <td>...</td>\n",
              "      <td>...</td>\n",
              "      <td>...</td>\n",
              "      <td>...</td>\n",
              "      <td>...</td>\n",
              "      <td>...</td>\n",
              "      <td>...</td>\n",
              "      <td>...</td>\n",
              "      <td>...</td>\n",
              "      <td>...</td>\n",
              "      <td>...</td>\n",
              "      <td>...</td>\n",
              "      <td>...</td>\n",
              "      <td>...</td>\n",
              "    </tr>\n",
              "    <tr>\n",
              "      <th>20346</th>\n",
              "      <td>2018-05-21 20:00:00</td>\n",
              "      <td>0.550268</td>\n",
              "      <td>-5.982994</td>\n",
              "      <td>7.341964</td>\n",
              "      <td>-5.991799</td>\n",
              "      <td>7.360673</td>\n",
              "      <td>0.006223</td>\n",
              "      <td>0.006223</td>\n",
              "      <td>0.006223</td>\n",
              "      <td>-0.000007</td>\n",
              "      <td>-0.000007</td>\n",
              "      <td>-0.000007</td>\n",
              "      <td>-0.000481</td>\n",
              "      <td>-0.000481</td>\n",
              "      <td>-0.000481</td>\n",
              "      <td>0.006711</td>\n",
              "      <td>0.006711</td>\n",
              "      <td>0.006711</td>\n",
              "      <td>0.0</td>\n",
              "      <td>0.0</td>\n",
              "      <td>0.0</td>\n",
              "      <td>0.556492</td>\n",
              "    </tr>\n",
              "    <tr>\n",
              "      <th>20347</th>\n",
              "      <td>2018-05-22 20:00:00</td>\n",
              "      <td>0.549931</td>\n",
              "      <td>-6.060017</td>\n",
              "      <td>7.335959</td>\n",
              "      <td>-5.995795</td>\n",
              "      <td>7.363585</td>\n",
              "      <td>0.006869</td>\n",
              "      <td>0.006869</td>\n",
              "      <td>0.006869</td>\n",
              "      <td>-0.000007</td>\n",
              "      <td>-0.000007</td>\n",
              "      <td>-0.000007</td>\n",
              "      <td>-0.000396</td>\n",
              "      <td>-0.000396</td>\n",
              "      <td>-0.000396</td>\n",
              "      <td>0.007272</td>\n",
              "      <td>0.007272</td>\n",
              "      <td>0.007272</td>\n",
              "      <td>0.0</td>\n",
              "      <td>0.0</td>\n",
              "      <td>0.0</td>\n",
              "      <td>0.556800</td>\n",
              "    </tr>\n",
              "    <tr>\n",
              "      <th>20348</th>\n",
              "      <td>2018-05-23 20:00:00</td>\n",
              "      <td>0.549594</td>\n",
              "      <td>-5.980545</td>\n",
              "      <td>7.411056</td>\n",
              "      <td>-5.999791</td>\n",
              "      <td>7.366497</td>\n",
              "      <td>0.008292</td>\n",
              "      <td>0.008292</td>\n",
              "      <td>0.008292</td>\n",
              "      <td>-0.000007</td>\n",
              "      <td>-0.000007</td>\n",
              "      <td>-0.000007</td>\n",
              "      <td>0.000424</td>\n",
              "      <td>0.000424</td>\n",
              "      <td>0.000424</td>\n",
              "      <td>0.007875</td>\n",
              "      <td>0.007875</td>\n",
              "      <td>0.007875</td>\n",
              "      <td>0.0</td>\n",
              "      <td>0.0</td>\n",
              "      <td>0.0</td>\n",
              "      <td>0.557886</td>\n",
              "    </tr>\n",
              "    <tr>\n",
              "      <th>20349</th>\n",
              "      <td>2018-05-24 20:00:00</td>\n",
              "      <td>0.549256</td>\n",
              "      <td>-6.033825</td>\n",
              "      <td>7.400456</td>\n",
              "      <td>-6.003788</td>\n",
              "      <td>7.369409</td>\n",
              "      <td>0.008791</td>\n",
              "      <td>0.008791</td>\n",
              "      <td>0.008791</td>\n",
              "      <td>-0.000007</td>\n",
              "      <td>-0.000007</td>\n",
              "      <td>-0.000007</td>\n",
              "      <td>0.000293</td>\n",
              "      <td>0.000293</td>\n",
              "      <td>0.000293</td>\n",
              "      <td>0.008505</td>\n",
              "      <td>0.008505</td>\n",
              "      <td>0.008505</td>\n",
              "      <td>0.0</td>\n",
              "      <td>0.0</td>\n",
              "      <td>0.0</td>\n",
              "      <td>0.558048</td>\n",
              "    </tr>\n",
              "    <tr>\n",
              "      <th>20350</th>\n",
              "      <td>2018-05-25 20:00:00</td>\n",
              "      <td>0.548919</td>\n",
              "      <td>-6.001296</td>\n",
              "      <td>7.402556</td>\n",
              "      <td>-6.008957</td>\n",
              "      <td>7.372321</td>\n",
              "      <td>0.008974</td>\n",
              "      <td>0.008974</td>\n",
              "      <td>0.008974</td>\n",
              "      <td>-0.000007</td>\n",
              "      <td>-0.000007</td>\n",
              "      <td>-0.000007</td>\n",
              "      <td>-0.000165</td>\n",
              "      <td>-0.000165</td>\n",
              "      <td>-0.000165</td>\n",
              "      <td>0.009146</td>\n",
              "      <td>0.009146</td>\n",
              "      <td>0.009146</td>\n",
              "      <td>0.0</td>\n",
              "      <td>0.0</td>\n",
              "      <td>0.0</td>\n",
              "      <td>0.557893</td>\n",
              "    </tr>\n",
              "  </tbody>\n",
              "</table>\n",
              "<p>2336 rows × 22 columns</p>\n",
              "</div>"
            ],
            "text/plain": [
              "                       ds     trend  ...  multiplicative_terms_upper      yhat\n",
              "18015 2012-01-02 20:00:00  1.336586  ...                         0.0  1.315892\n",
              "18016 2012-01-03 20:00:00  1.336248  ...                         0.0  1.315549\n",
              "18017 2012-01-04 20:00:00  1.335911  ...                         0.0  1.315882\n",
              "18018 2012-01-05 20:00:00  1.335574  ...                         0.0  1.315209\n",
              "18019 2012-01-06 20:00:00  1.335236  ...                         0.0  1.314157\n",
              "...                   ...       ...  ...                         ...       ...\n",
              "20346 2018-05-21 20:00:00  0.550268  ...                         0.0  0.556492\n",
              "20347 2018-05-22 20:00:00  0.549931  ...                         0.0  0.556800\n",
              "20348 2018-05-23 20:00:00  0.549594  ...                         0.0  0.557886\n",
              "20349 2018-05-24 20:00:00  0.549256  ...                         0.0  0.558048\n",
              "20350 2018-05-25 20:00:00  0.548919  ...                         0.0  0.557893\n",
              "\n",
              "[2336 rows x 22 columns]"
            ]
          },
          "metadata": {
            "tags": []
          },
          "execution_count": 35
        }
      ]
    },
    {
      "cell_type": "code",
      "metadata": {
        "id": "f2MihIOIexCl"
      },
      "source": [
        ""
      ],
      "execution_count": null,
      "outputs": []
    }
  ]
}